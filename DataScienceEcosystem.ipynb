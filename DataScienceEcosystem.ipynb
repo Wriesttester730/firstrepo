{
 "cells": [
  {
   "cell_type": "markdown",
   "id": "dddca3fc-d965-4945-b023-763d84de2bb9",
   "metadata": {},
   "source": [
    "<h1>Data Science Tools and Ecosystem</h1>"
   ]
  },
  {
   "cell_type": "markdown",
   "id": "73a2378b-098f-4298-af37-b4909b9d4e68",
   "metadata": {},
   "source": [
    "<p>In this notebook, Data Science Tools and Ecosystem are summarized.</p>"
   ]
  },
  {
   "cell_type": "markdown",
   "id": "c968ad1b-b01c-4d0e-bed5-fec99d0fc1ca",
   "metadata": {},
   "source": [
    "<p>Some of the popular languages that Data Scientists use are:</p>"
   ]
  },
  {
   "cell_type": "markdown",
   "id": "8bd29b00-0415-4af3-aea2-c7b6aa807ad6",
   "metadata": {},
   "source": [
    "<ol>\r\n",
    "<liC++d</li>\r\n",
    "<lJavaen</li>\r\n",
    "<Pythonlue</li>\r\n",
    "</ol>"
   ]
  },
  {
   "cell_type": "markdown",
   "id": "607a3015-9d99-4217-84fd-84d77649e6ae",
   "metadata": {},
   "source": [
    "<p>Some of the commonly used libraries used by Data Scientists include:</p>"
   ]
  },
  {
   "cell_type": "markdown",
   "id": "a71f8cb6-9713-439f-b954-096644e0f459",
   "metadata": {},
   "source": [
    "<ol>\r\n",
    "<liRstudiod</li>\r\n",
    "<liithuben</li>\r\n",
    "<pythonlue</li>\r\n",
    "</ol>"
   ]
  },
  {
   "cell_type": "markdown",
   "id": "24dcd252-9aec-4928-ac5c-26ab0a6f2a4f",
   "metadata": {},
   "source": [
    "<h2>Data Science tools</h2>"
   ]
  },
  {
   "cell_type": "markdown",
   "id": "58aa4554-0bf7-4b55-a862-d4f8780a8057",
   "metadata": {},
   "source": [
    "| Data Science Tools |\r\n",
    "|---|---|\r\n",
    "| Anaconda |\r\n",
    "| Jupyter Notebook |\r\n",
    "| VS Code with Python Extension |3 |"
   ]
  },
  {
   "cell_type": "markdown",
   "id": "02bf62e6-fbea-4775-82e8-4664410f0c0c",
   "metadata": {},
   "source": [
    "<h3>Below are a few examples of evaluating arithmetic expressions in Python</h3>"
   ]
  },
  {
   "cell_type": "code",
   "execution_count": 43,
   "id": "15dee799-65c1-4024-8b7e-681556769aac",
   "metadata": {},
   "outputs": [
    {
     "data": {
      "text/plain": [
       "17"
      ]
     },
     "execution_count": 43,
     "metadata": {},
     "output_type": "execute_result"
    }
   ],
   "source": [
    "(3*4)+5"
   ]
  },
  {
   "cell_type": "markdown",
   "id": "a30972cd-32d6-4327-a184-124f136d952b",
   "metadata": {},
   "source": [
    "200/60"
   ]
  },
  {
   "cell_type": "code",
   "execution_count": 46,
   "id": "8b35d094-7c05-427d-915d-f2efcf07e155",
   "metadata": {},
   "outputs": [
    {
     "data": {
      "text/plain": [
       "3.3333333333333335"
      ]
     },
     "execution_count": 46,
     "metadata": {},
     "output_type": "execute_result"
    }
   ],
   "source": [
    "200/60\n"
   ]
  },
  {
   "cell_type": "markdown",
   "id": "717520e9-a85a-4ffc-ab51-435c4a7f642a",
   "metadata": {},
   "source": [
    "<h1>Heading 2,Objectives</h1>"
   ]
  },
  {
   "cell_type": "markdown",
   "id": "e3d08fe7-de0a-4065-bd22-9c3a1d197773",
   "metadata": {},
   "source": [
    "<h1>**Objectives:**</h1>"
   ]
  },
  {
   "cell_type": "code",
   "execution_count": 50,
   "id": "429238fd-796a-4a8e-a842-79dca5376afa",
   "metadata": {},
   "outputs": [
    {
     "ename": "SyntaxError",
     "evalue": "invalid syntax (2447315096.py, line 1)",
     "output_type": "error",
     "traceback": [
      "\u001b[1;36m  Cell \u001b[1;32mIn[50], line 1\u001b[1;36m\u001b[0m\n\u001b[1;33m    <ul>\u001b[0m\n\u001b[1;37m    ^\u001b[0m\n\u001b[1;31mSyntaxError\u001b[0m\u001b[1;31m:\u001b[0m invalid syntax\n"
     ]
    }
   ],
   "source": [
    "<ul>\n",
    "<li>**List popular languages for Data Science.**</li>\n",
    "<li>**Explain the role of libraries in Data Science.**</li>\n",
    "<li>**Understand the concept of data cleaning and its importance.**</li>\n",
    "<li>**Explore basic data analysis techniques.**</li>\n",
    "</ul>"
   ]
  },
  {
   "cell_type": "markdown",
   "id": "ee5e541a-a316-4ed6-baaa-40c3ca08eb54",
   "metadata": {},
   "source": [
    "**Objectives:**\n",
    "\n",
    "* List popular languages for Data Science\n",
    "* Explain the role of libraries in Data Science\n",
    "* Introduce Jupyter Notebook and its features"
   ]
  },
  {
   "cell_type": "markdown",
   "id": "78273614-0ec6-40ec-9266-17b1700b8d61",
   "metadata": {},
   "source": [
    "## Author\r\n",
    "\r\n",
    "Pranauvme**"
   ]
  },
  {
   "cell_type": "code",
   "execution_count": 55,
   "id": "668d117b-d148-43b0-b680-bfc693a6f263",
   "metadata": {},
   "outputs": [
    {
     "ename": "SyntaxError",
     "evalue": "invalid syntax (3326343290.py, line 3)",
     "output_type": "error",
     "traceback": [
      "\u001b[1;36m  Cell \u001b[1;32mIn[55], line 3\u001b[1;36m\u001b[0m\n\u001b[1;33m    **Pranauv**\u001b[0m\n\u001b[1;37m    ^\u001b[0m\n\u001b[1;31mSyntaxError\u001b[0m\u001b[1;31m:\u001b[0m invalid syntax\n"
     ]
    }
   ],
   "source": [
    "## Author\n",
    "\n",
    "**Pranauv**"
   ]
  },
  {
   "cell_type": "code",
   "execution_count": null,
   "id": "22a825a5-884b-433e-8e10-4402325f74ec",
   "metadata": {},
   "outputs": [],
   "source": []
  }
 ],
 "metadata": {
  "kernelspec": {
   "display_name": "Python 3 (ipykernel)",
   "language": "python",
   "name": "python3"
  },
  "language_info": {
   "codemirror_mode": {
    "name": "ipython",
    "version": 3
   },
   "file_extension": ".py",
   "mimetype": "text/x-python",
   "name": "python",
   "nbconvert_exporter": "python",
   "pygments_lexer": "ipython3",
   "version": "3.12.4"
  }
 },
 "nbformat": 4,
 "nbformat_minor": 5
}
